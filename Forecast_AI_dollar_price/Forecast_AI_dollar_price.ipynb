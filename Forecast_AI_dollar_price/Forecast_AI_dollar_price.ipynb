{
  "cells": [
    {
      "cell_type": "code",
      "execution_count": null,
      "metadata": {
        "id": "9yxRTCll_m-7"
      },
      "outputs": [],
      "source": [
        "import requests\n",
        "import datetime\n",
        "from transformers import pipeline"
      ]
    },
    {
      "cell_type": "code",
      "execution_count": null,
      "metadata": {
        "id": "jXWl4wru_63D"
      },
      "outputs": [],
      "source": [
        "NEWS_API_URL = \"https://newsapi.org/v2/everything\"\n",
        "FX_API_URL = \"https://api.exchangerate-api.com/v4/latest/USD\""
      ]
    },
    {
      "cell_type": "code",
      "execution_count": null,
      "metadata": {
        "id": "GdboBTqY_8--"
      },
      "outputs": [],
      "source": [
        "# دریافت اخبار\n",
        "def get_news():\n",
        "    params = {\n",
        "        'q': 'USD',\n",
        "        'apiKey': '8689e34ee2b64fabaff04f67f5f01269',\n",
        "        'language': 'en',\n",
        "        'sortBy': 'relevancy',\n",
        "        'from': (datetime.datetime.now() - datetime.timedelta(days=1)).strftime('%Y-%m-%d')\n",
        "    }\n",
        "    response = requests.get(NEWS_API_URL, params=params)\n",
        "    news_data = response.json()\n",
        "    return news_data['articles']"
      ]
    },
    {
      "cell_type": "code",
      "execution_count": null,
      "metadata": {
        "colab": {
          "base_uri": "https://localhost:8080/"
        },
        "id": "v7uC3W3RAGP2",
        "outputId": "42b75948-0283-47cb-a70e-863e4a894145"
      },
      "outputs": [
        {
          "data": {
            "text/plain": [
              "{'source': {'id': None, 'name': 'Mental Floss'},\n",
              " 'author': 'Lorna Wallace',\n",
              " 'title': 'The 10 Biggest Concerts in History',\n",
              " 'description': 'Rod Stewart, Madonna, and the Rolling Stones had some of the largest concert crowds in history.',\n",
              " 'url': 'https://www.mentalfloss.com/posts/biggest-concerts-in-history',\n",
              " 'urlToImage': None,\n",
              " 'publishedAt': '2024-08-28T12:01:00Z',\n",
              " 'content': 'It can sometimes seem as though millions of people are cramming into concert venues to see the biggest artists in the world. Although no ticketed gig has ever actually reached attendance numbers in t… [+7826 chars]'}"
            ]
          },
          "execution_count": 11,
          "metadata": {},
          "output_type": "execute_result"
        }
      ],
      "source": [
        "get_news()[0]"
      ]
    },
    {
      "cell_type": "code",
      "execution_count": null,
      "metadata": {
        "id": "u8KLdFWL_-q6"
      },
      "outputs": [],
      "source": [
        "# دریافت قیمت دلار\n",
        "def get_fx_rate():\n",
        "    response = requests.get(FX_API_URL)\n",
        "    fx_data = response.json()\n",
        "    return fx_data['rates']['USD']"
      ]
    },
    {
      "cell_type": "code",
      "execution_count": null,
      "metadata": {
        "colab": {
          "base_uri": "https://localhost:8080/"
        },
        "id": "60ztRuq-AO7U",
        "outputId": "55f3967e-2bbf-4c3f-fb67-3f723038bf84"
      },
      "outputs": [
        {
          "data": {
            "text/plain": [
              "1"
            ]
          },
          "execution_count": 24,
          "metadata": {},
          "output_type": "execute_result"
        }
      ],
      "source": [
        "get_fx_rate()"
      ]
    },
    {
      "cell_type": "code",
      "execution_count": null,
      "metadata": {
        "id": "rSOwV1jcAANB"
      },
      "outputs": [],
      "source": [
        "# پردازش اخبار\n",
        "def process_news(articles):\n",
        "    nlp = pipeline(\"sentiment-analysis\")\n",
        "    sentiments = [nlp(article['description'])[0] for article in articles]\n",
        "    return sentiments"
      ]
    },
    {
      "cell_type": "code",
      "execution_count": null,
      "metadata": {
        "colab": {
          "base_uri": "https://localhost:8080/",
          "height": 1000,
          "referenced_widgets": [
            "7f19cdb1d42344b68467ac91dc75e22c",
            "2cbedd18fc7d4d8b8f1a56bf3bbf4221",
            "c9f0d71187564240955d5e52903a7327",
            "75aec5c951da44afacc3249738538589",
            "f0291a671c5348e189c33d22fd18d319",
            "084f44539739408396a9d37d787892c5",
            "0af2c33792d34af7bb350a1df783c8c4",
            "0fe25e953c6a49358e7f3516316c01fc",
            "b5f7ade0125b4a05bbd58c008c956907",
            "9ce08bcc34f4430f8741bf9162758232",
            "badc7a0ef4d14827ab09fe28474bb6e1",
            "382c01f0ebf14db9b87231a9f2b7f87b",
            "4ec4d529d9f743c5ac7f54920e595d97",
            "856ca0b5125a42b1bfeb36b9d011706c",
            "f58e4353a238486e8fed8ac7bd558c26",
            "6a5ce70e6ac64e72ac1704cd3453d590",
            "de838d5a05a94cc8a2174bc4df2d6891",
            "06230c3e7cc14a3889e1d0f51c5c6a6e",
            "fee40895b2a94b24a6d50df05c0a6e38",
            "6cc110d2e25d4409a567917d4f9ea3eb",
            "e4e733c825bf42018cb9f064a8d52403",
            "14ac6e89dfaa4f9c88a73b18e936379c",
            "ad5368dad49a416c8559aad516f1b0a5",
            "fb0f48b8a6264d7c877dbf7caa4a4f53",
            "9ed9a993265844edb050bdaa5ed53728",
            "b9f5e6d6abc44de2904bfa4531a692d8",
            "c85f3927e35e40c085a556de292861fe",
            "8f67656bc08e45d3a38a91007b99d444",
            "b78701e2d3864ee58a2a4052e511ac41",
            "9598c8de0c254594a8989edd6dc220da",
            "8319449f262f487ab6931526f855f4dc",
            "a16ae641f73c45068aeb2384d755b746",
            "8edbd6d389a44d919db10b84c51e3a14",
            "170a1931bdc14061b0a5a8d88c391080",
            "af1525a7b7f347f581473ac22176c62a",
            "91da686bcdc64385855ba52e13ef43b1",
            "811d6e3128264795a5f6a2d8d94ee347",
            "022d2616483f403ba4425778bed45ed0",
            "2cc4baa62f9b47f19ba2055d1c187239",
            "6335cc0d92eb42ea852bae3681ea2d91",
            "3bf8a12a0dff46988f91cc8880de10aa",
            "af51b9c150914af5b5168e189fcf8d95",
            "2c31ba09c6754b819c700dcbd5eed7f1",
            "2916165ca616431fbece03a4c1fca311"
          ]
        },
        "id": "_1qhvxccA6ZV",
        "outputId": "f7a77500-c0ea-466a-ecd4-30cbd61968d3"
      },
      "outputs": [
        {
          "name": "stderr",
          "output_type": "stream",
          "text": [
            "No model was supplied, defaulted to distilbert/distilbert-base-uncased-finetuned-sst-2-english and revision af0f99b (https://huggingface.co/distilbert/distilbert-base-uncased-finetuned-sst-2-english).\n",
            "Using a pipeline without specifying a model name and revision in production is not recommended.\n",
            "/usr/local/lib/python3.10/dist-packages/huggingface_hub/utils/_token.py:89: UserWarning: \n",
            "The secret `HF_TOKEN` does not exist in your Colab secrets.\n",
            "To authenticate with the Hugging Face Hub, create a token in your settings tab (https://huggingface.co/settings/tokens), set it as secret in your Google Colab and restart your session.\n",
            "You will be able to reuse this secret in all of your notebooks.\n",
            "Please note that authentication is recommended but still optional to access public models or datasets.\n",
            "  warnings.warn(\n"
          ]
        },
        {
          "data": {
            "application/vnd.jupyter.widget-view+json": {
              "model_id": "7f19cdb1d42344b68467ac91dc75e22c",
              "version_major": 2,
              "version_minor": 0
            },
            "text/plain": [
              "config.json:   0%|          | 0.00/629 [00:00<?, ?B/s]"
            ]
          },
          "metadata": {},
          "output_type": "display_data"
        },
        {
          "data": {
            "application/vnd.jupyter.widget-view+json": {
              "model_id": "382c01f0ebf14db9b87231a9f2b7f87b",
              "version_major": 2,
              "version_minor": 0
            },
            "text/plain": [
              "model.safetensors:   0%|          | 0.00/268M [00:00<?, ?B/s]"
            ]
          },
          "metadata": {},
          "output_type": "display_data"
        },
        {
          "data": {
            "application/vnd.jupyter.widget-view+json": {
              "model_id": "ad5368dad49a416c8559aad516f1b0a5",
              "version_major": 2,
              "version_minor": 0
            },
            "text/plain": [
              "tokenizer_config.json:   0%|          | 0.00/48.0 [00:00<?, ?B/s]"
            ]
          },
          "metadata": {},
          "output_type": "display_data"
        },
        {
          "data": {
            "application/vnd.jupyter.widget-view+json": {
              "model_id": "170a1931bdc14061b0a5a8d88c391080",
              "version_major": 2,
              "version_minor": 0
            },
            "text/plain": [
              "vocab.txt:   0%|          | 0.00/232k [00:00<?, ?B/s]"
            ]
          },
          "metadata": {},
          "output_type": "display_data"
        },
        {
          "name": "stderr",
          "output_type": "stream",
          "text": [
            "Hardware accelerator e.g. GPU is available in the environment, but no `device` argument is passed to the `Pipeline` object. Model will be on CPU.\n"
          ]
        },
        {
          "data": {
            "text/plain": [
              "[{'label': 'POSITIVE', 'score': 0.99972003698349},\n",
              " {'label': 'POSITIVE', 'score': 0.9993665814399719},\n",
              " {'label': 'NEGATIVE', 'score': 0.9913151860237122},\n",
              " {'label': 'NEGATIVE', 'score': 0.9959931373596191},\n",
              " {'label': 'POSITIVE', 'score': 0.9836640357971191},\n",
              " {'label': 'POSITIVE', 'score': 0.9884679913520813},\n",
              " {'label': 'POSITIVE', 'score': 0.9995638728141785},\n",
              " {'label': 'NEGATIVE', 'score': 0.9885118007659912},\n",
              " {'label': 'POSITIVE', 'score': 0.9453237056732178},\n",
              " {'label': 'POSITIVE', 'score': 0.9957804679870605},\n",
              " {'label': 'POSITIVE', 'score': 0.9964945912361145},\n",
              " {'label': 'NEGATIVE', 'score': 0.999365508556366},\n",
              " {'label': 'POSITIVE', 'score': 0.992827832698822},\n",
              " {'label': 'POSITIVE', 'score': 0.9997422099113464},\n",
              " {'label': 'POSITIVE', 'score': 0.9996380805969238},\n",
              " {'label': 'NEGATIVE', 'score': 0.9980949759483337},\n",
              " {'label': 'POSITIVE', 'score': 0.9991950392723083},\n",
              " {'label': 'POSITIVE', 'score': 0.994114100933075},\n",
              " {'label': 'NEGATIVE', 'score': 0.8829333186149597},\n",
              " {'label': 'POSITIVE', 'score': 0.9911854863166809},\n",
              " {'label': 'POSITIVE', 'score': 0.7481208443641663},\n",
              " {'label': 'NEGATIVE', 'score': 0.997547447681427},\n",
              " {'label': 'NEGATIVE', 'score': 0.9931220412254333},\n",
              " {'label': 'POSITIVE', 'score': 0.9826900959014893},\n",
              " {'label': 'NEGATIVE', 'score': 0.9784256815910339},\n",
              " {'label': 'NEGATIVE', 'score': 0.8444382548332214},\n",
              " {'label': 'POSITIVE', 'score': 0.8736094236373901},\n",
              " {'label': 'NEGATIVE', 'score': 0.9990717172622681},\n",
              " {'label': 'POSITIVE', 'score': 0.7868495583534241},\n",
              " {'label': 'POSITIVE', 'score': 0.9740565419197083},\n",
              " {'label': 'NEGATIVE', 'score': 0.7727633118629456},\n",
              " {'label': 'NEGATIVE', 'score': 0.9995803236961365},\n",
              " {'label': 'POSITIVE', 'score': 0.999796450138092},\n",
              " {'label': 'NEGATIVE', 'score': 0.9989174604415894},\n",
              " {'label': 'NEGATIVE', 'score': 0.9876827597618103},\n",
              " {'label': 'POSITIVE', 'score': 0.9722297191619873},\n",
              " {'label': 'NEGATIVE', 'score': 0.9898923635482788},\n",
              " {'label': 'NEGATIVE', 'score': 0.9870107173919678},\n",
              " {'label': 'POSITIVE', 'score': 0.9334284663200378},\n",
              " {'label': 'POSITIVE', 'score': 0.9325918555259705},\n",
              " {'label': 'POSITIVE', 'score': 0.9992892742156982},\n",
              " {'label': 'POSITIVE', 'score': 0.9918964505195618},\n",
              " {'label': 'POSITIVE', 'score': 0.9990967512130737},\n",
              " {'label': 'NEGATIVE', 'score': 0.9993442893028259},\n",
              " {'label': 'POSITIVE', 'score': 0.9918487071990967},\n",
              " {'label': 'POSITIVE', 'score': 0.9986322522163391},\n",
              " {'label': 'NEGATIVE', 'score': 0.9039492011070251},\n",
              " {'label': 'POSITIVE', 'score': 0.9894728064537048},\n",
              " {'label': 'POSITIVE', 'score': 0.7933089137077332},\n",
              " {'label': 'NEGATIVE', 'score': 0.9768785834312439},\n",
              " {'label': 'NEGATIVE', 'score': 0.9961695075035095},\n",
              " {'label': 'NEGATIVE', 'score': 0.987209677696228},\n",
              " {'label': 'NEGATIVE', 'score': 0.993025541305542},\n",
              " {'label': 'NEGATIVE', 'score': 0.9931118488311768},\n",
              " {'label': 'NEGATIVE', 'score': 0.9987584352493286},\n",
              " {'label': 'POSITIVE', 'score': 0.9475821852684021},\n",
              " {'label': 'POSITIVE', 'score': 0.995192289352417},\n",
              " {'label': 'POSITIVE', 'score': 0.9473949074745178},\n",
              " {'label': 'NEGATIVE', 'score': 0.9987290501594543},\n",
              " {'label': 'POSITIVE', 'score': 0.9059153199195862},\n",
              " {'label': 'POSITIVE', 'score': 0.9823336601257324},\n",
              " {'label': 'POSITIVE', 'score': 0.9107012748718262},\n",
              " {'label': 'POSITIVE', 'score': 0.5155655145645142},\n",
              " {'label': 'NEGATIVE', 'score': 0.9598489999771118},\n",
              " {'label': 'NEGATIVE', 'score': 0.9470397233963013},\n",
              " {'label': 'NEGATIVE', 'score': 0.946083664894104},\n",
              " {'label': 'POSITIVE', 'score': 0.9930912256240845},\n",
              " {'label': 'POSITIVE', 'score': 0.9751070737838745},\n",
              " {'label': 'NEGATIVE', 'score': 0.7624819278717041},\n",
              " {'label': 'POSITIVE', 'score': 0.9905248284339905},\n",
              " {'label': 'NEGATIVE', 'score': 0.9949333071708679},\n",
              " {'label': 'NEGATIVE', 'score': 0.9735779166221619},\n",
              " {'label': 'NEGATIVE', 'score': 0.9759641289710999},\n",
              " {'label': 'NEGATIVE', 'score': 0.9993498921394348},\n",
              " {'label': 'NEGATIVE', 'score': 0.5367726683616638},\n",
              " {'label': 'POSITIVE', 'score': 0.8863286375999451},\n",
              " {'label': 'POSITIVE', 'score': 0.8980286717414856},\n",
              " {'label': 'POSITIVE', 'score': 0.7175774574279785},\n",
              " {'label': 'POSITIVE', 'score': 0.9828694462776184},\n",
              " {'label': 'POSITIVE', 'score': 0.9009332060813904},\n",
              " {'label': 'POSITIVE', 'score': 0.8714661002159119},\n",
              " {'label': 'POSITIVE', 'score': 0.9603930711746216},\n",
              " {'label': 'POSITIVE', 'score': 0.9986591339111328},\n",
              " {'label': 'POSITIVE', 'score': 0.9131162166595459},\n",
              " {'label': 'POSITIVE', 'score': 0.6869074106216431},\n",
              " {'label': 'POSITIVE', 'score': 0.8945325016975403},\n",
              " {'label': 'NEGATIVE', 'score': 0.9829535484313965},\n",
              " {'label': 'POSITIVE', 'score': 0.9550437927246094},\n",
              " {'label': 'POSITIVE', 'score': 0.9966657757759094},\n",
              " {'label': 'NEGATIVE', 'score': 0.8907834887504578},\n",
              " {'label': 'NEGATIVE', 'score': 0.914570689201355},\n",
              " {'label': 'POSITIVE', 'score': 0.995824933052063},\n",
              " {'label': 'NEGATIVE', 'score': 0.9349015355110168},\n",
              " {'label': 'NEGATIVE', 'score': 0.9694743752479553},\n",
              " {'label': 'NEGATIVE', 'score': 0.9573341608047485},\n",
              " {'label': 'NEGATIVE', 'score': 0.9254005551338196},\n",
              " {'label': 'NEGATIVE', 'score': 0.6844161748886108},\n",
              " {'label': 'NEGATIVE', 'score': 0.9867270588874817},\n",
              " {'label': 'POSITIVE', 'score': 0.9253641963005066},\n",
              " {'label': 'POSITIVE', 'score': 0.7039145231246948}]"
            ]
          },
          "execution_count": 27,
          "metadata": {},
          "output_type": "execute_result"
        }
      ],
      "source": [
        "process_news(get_news())"
      ]
    },
    {
      "cell_type": "code",
      "execution_count": null,
      "metadata": {
        "id": "8gI4fOXdABwj"
      },
      "outputs": [],
      "source": [
        "# پیشبینی قیمت دلار\n",
        "def predict_fx_rate(news_sentiments, current_fx_rate):\n",
        "    positive_news = sum(1 for sentiment in news_sentiments if sentiment['label'] == 'POSITIVE')\n",
        "    negative_news = sum(1 for sentiment in news_sentiments if sentiment['label'] == 'NEGATIVE')\n",
        "    prediction = current_fx_rate + (positive_news - negative_news) * 0.01  # تغییر قیمت بر اساس تعداد اخبار مثبت و منفی\n",
        "    return prediction"
      ]
    },
    {
      "cell_type": "code",
      "execution_count": null,
      "metadata": {
        "colab": {
          "base_uri": "https://localhost:8080/"
        },
        "id": "8peiGH8EBKng",
        "outputId": "9712bdce-06eb-4b5a-9665-2ff5fd7ea015"
      },
      "outputs": [
        {
          "name": "stderr",
          "output_type": "stream",
          "text": [
            "No model was supplied, defaulted to distilbert/distilbert-base-uncased-finetuned-sst-2-english and revision af0f99b (https://huggingface.co/distilbert/distilbert-base-uncased-finetuned-sst-2-english).\n",
            "Using a pipeline without specifying a model name and revision in production is not recommended.\n",
            "Hardware accelerator e.g. GPU is available in the environment, but no `device` argument is passed to the `Pipeline` object. Model will be on CPU.\n"
          ]
        },
        {
          "data": {
            "text/plain": [
              "1.12"
            ]
          },
          "execution_count": 45,
          "metadata": {},
          "output_type": "execute_result"
        }
      ],
      "source": [
        "predict_fx_rate(process_news(get_news()), get_fx_rate())"
      ]
    },
    {
      "cell_type": "code",
      "execution_count": null,
      "metadata": {
        "id": "P6P6f3K1Fi8e"
      },
      "outputs": [],
      "source": [
        "!pip install openai==0.28"
      ]
    },
    {
      "cell_type": "code",
      "execution_count": null,
      "metadata": {
        "id": "PTmja2y-ADIb"
      },
      "outputs": [],
      "source": [
        "import openai\n",
        "\n",
        "openai.api_key = ''\n",
        "\n",
        "def generate_forecast_text(prediction):\n",
        "    response = openai.Completion.create(\n",
        "      engine=\"text-davinci-003\",\n",
        "      prompt=f\"The predicted exchange rate for USD is {prediction:.2f}. This is based on the latest news and market trends.\",\n",
        "      max_tokens=100\n",
        "    )\n",
        "    return response.choices[0].text.strip()\n"
      ]
    },
    {
      "cell_type": "code",
      "execution_count": null,
      "metadata": {
        "colab": {
          "base_uri": "https://localhost:8080/",
          "height": 498
        },
        "id": "POsC2w31CkqH",
        "outputId": "430e9cb9-2ffd-4570-89bf-d166c3137380"
      },
      "outputs": [
        {
          "name": "stderr",
          "output_type": "stream",
          "text": [
            "No model was supplied, defaulted to distilbert/distilbert-base-uncased-finetuned-sst-2-english and revision af0f99b (https://huggingface.co/distilbert/distilbert-base-uncased-finetuned-sst-2-english).\n",
            "Using a pipeline without specifying a model name and revision in production is not recommended.\n",
            "Hardware accelerator e.g. GPU is available in the environment, but no `device` argument is passed to the `Pipeline` object. Model will be on CPU.\n"
          ]
        },
        {
          "ename": "APIRemovedInV1",
          "evalue": "\n\nYou tried to access openai.Completion, but this is no longer supported in openai>=1.0.0 - see the README at https://github.com/openai/openai-python for the API.\n\nYou can run `openai migrate` to automatically upgrade your codebase to use the 1.0.0 interface. \n\nAlternatively, you can pin your installation to the old version, e.g. `pip install openai==0.28`\n\nA detailed migration guide is available here: https://github.com/openai/openai-python/discussions/742\n",
          "output_type": "error",
          "traceback": [
            "\u001b[0;31m---------------------------------------------------------------------------\u001b[0m",
            "\u001b[0;31mAPIRemovedInV1\u001b[0m                            Traceback (most recent call last)",
            "\u001b[0;32m<ipython-input-47-e2499477e05a>\u001b[0m in \u001b[0;36m<cell line: 1>\u001b[0;34m()\u001b[0m\n\u001b[0;32m----> 1\u001b[0;31m \u001b[0mgenerate_forecast_text\u001b[0m\u001b[0;34m(\u001b[0m\u001b[0mpredict_fx_rate\u001b[0m\u001b[0;34m(\u001b[0m\u001b[0mprocess_news\u001b[0m\u001b[0;34m(\u001b[0m\u001b[0mget_news\u001b[0m\u001b[0;34m(\u001b[0m\u001b[0;34m)\u001b[0m\u001b[0;34m)\u001b[0m\u001b[0;34m,\u001b[0m \u001b[0mget_fx_rate\u001b[0m\u001b[0;34m(\u001b[0m\u001b[0;34m)\u001b[0m\u001b[0;34m)\u001b[0m\u001b[0;34m)\u001b[0m\u001b[0;34m\u001b[0m\u001b[0;34m\u001b[0m\u001b[0m\n\u001b[0m",
            "\u001b[0;32m<ipython-input-46-46a8592cdd56>\u001b[0m in \u001b[0;36mgenerate_forecast_text\u001b[0;34m(prediction)\u001b[0m\n\u001b[1;32m      4\u001b[0m \u001b[0;34m\u001b[0m\u001b[0m\n\u001b[1;32m      5\u001b[0m \u001b[0;32mdef\u001b[0m \u001b[0mgenerate_forecast_text\u001b[0m\u001b[0;34m(\u001b[0m\u001b[0mprediction\u001b[0m\u001b[0;34m)\u001b[0m\u001b[0;34m:\u001b[0m\u001b[0;34m\u001b[0m\u001b[0;34m\u001b[0m\u001b[0m\n\u001b[0;32m----> 6\u001b[0;31m     response = openai.Completion.create(\n\u001b[0m\u001b[1;32m      7\u001b[0m       \u001b[0mengine\u001b[0m\u001b[0;34m=\u001b[0m\u001b[0;34m\"text-davinci-003\"\u001b[0m\u001b[0;34m,\u001b[0m\u001b[0;34m\u001b[0m\u001b[0;34m\u001b[0m\u001b[0m\n\u001b[1;32m      8\u001b[0m       \u001b[0mprompt\u001b[0m\u001b[0;34m=\u001b[0m\u001b[0;34mf\"The predicted exchange rate for USD is {prediction:.2f}. This is based on the latest news and market trends.\"\u001b[0m\u001b[0;34m,\u001b[0m\u001b[0;34m\u001b[0m\u001b[0;34m\u001b[0m\u001b[0m\n",
            "\u001b[0;32m/usr/local/lib/python3.10/dist-packages/openai/lib/_old_api.py\u001b[0m in \u001b[0;36m__call__\u001b[0;34m(self, *_args, **_kwargs)\u001b[0m\n\u001b[1;32m     37\u001b[0m \u001b[0;34m\u001b[0m\u001b[0m\n\u001b[1;32m     38\u001b[0m     \u001b[0;32mdef\u001b[0m \u001b[0m__call__\u001b[0m\u001b[0;34m(\u001b[0m\u001b[0mself\u001b[0m\u001b[0;34m,\u001b[0m \u001b[0;34m*\u001b[0m\u001b[0m_args\u001b[0m\u001b[0;34m:\u001b[0m \u001b[0mAny\u001b[0m\u001b[0;34m,\u001b[0m \u001b[0;34m**\u001b[0m\u001b[0m_kwargs\u001b[0m\u001b[0;34m:\u001b[0m \u001b[0mAny\u001b[0m\u001b[0;34m)\u001b[0m \u001b[0;34m->\u001b[0m \u001b[0mAny\u001b[0m\u001b[0;34m:\u001b[0m\u001b[0;34m\u001b[0m\u001b[0;34m\u001b[0m\u001b[0m\n\u001b[0;32m---> 39\u001b[0;31m         \u001b[0;32mraise\u001b[0m \u001b[0mAPIRemovedInV1\u001b[0m\u001b[0;34m(\u001b[0m\u001b[0msymbol\u001b[0m\u001b[0;34m=\u001b[0m\u001b[0mself\u001b[0m\u001b[0;34m.\u001b[0m\u001b[0m_symbol\u001b[0m\u001b[0;34m)\u001b[0m\u001b[0;34m\u001b[0m\u001b[0;34m\u001b[0m\u001b[0m\n\u001b[0m\u001b[1;32m     40\u001b[0m \u001b[0;34m\u001b[0m\u001b[0m\n\u001b[1;32m     41\u001b[0m \u001b[0;34m\u001b[0m\u001b[0m\n",
            "\u001b[0;31mAPIRemovedInV1\u001b[0m: \n\nYou tried to access openai.Completion, but this is no longer supported in openai>=1.0.0 - see the README at https://github.com/openai/openai-python for the API.\n\nYou can run `openai migrate` to automatically upgrade your codebase to use the 1.0.0 interface. \n\nAlternatively, you can pin your installation to the old version, e.g. `pip install openai==0.28`\n\nA detailed migration guide is available here: https://github.com/openai/openai-python/discussions/742\n"
          ]
        }
      ],
      "source": [
        "generate_forecast_text(predict_fx_rate(process_news(get_news()), get_fx_rate()))"
      ]
    },
    {
      "cell_type": "code",
      "execution_count": null,
      "metadata": {
        "colab": {
          "base_uri": "https://localhost:8080/"
        },
        "id": "B-EyKicH--E3",
        "outputId": "e42ebe42-bdc1-4704-f442-f451492dcc52"
      },
      "outputs": [
        {
          "name": "stdout",
          "output_type": "stream",
          "text": [
            " * Serving Flask app '__main__'\n",
            " * Debug mode: on\n"
          ]
        },
        {
          "name": "stderr",
          "output_type": "stream",
          "text": [
            "INFO:werkzeug:\u001b[31m\u001b[1mWARNING: This is a development server. Do not use it in a production deployment. Use a production WSGI server instead.\u001b[0m\n",
            " * Running on http://127.0.0.1:5000\n",
            "INFO:werkzeug:\u001b[33mPress CTRL+C to quit\u001b[0m\n",
            "INFO:werkzeug: * Restarting with stat\n"
          ]
        }
      ],
      "source": [
        "# from flask import Flask, render_template\n",
        "\n",
        "# app = Flask(__name__)\n",
        "\n",
        "# @app.route('/')\n",
        "# def index():\n",
        "#     news_articles = get_news()\n",
        "#     current_fx_rate = get_fx_rate()\n",
        "#     news_sentiments = process_news(news_articles)\n",
        "#     prediction = predict_fx_rate(news_sentiments, current_fx_rate)\n",
        "#     forecast_text = generate_forecast_text(prediction)\n",
        "#     return render_template('index.html', current_fx_rate=current_fx_rate, forecast_text=forecast_text)\n",
        "\n",
        "# if __name__ == \"__main__\":\n",
        "#     app.run(debug=True)\n"
      ]
    },
    {
      "cell_type": "code",
      "execution_count": null,
      "metadata": {
        "id": "f03qU0UjGMVX"
      },
      "outputs": [],
      "source": [
        "from google.colab import drive\n",
        "drive.mount('/content/drive')"
      ]
    },
    {
      "cell_type": "code",
      "execution_count": null,
      "metadata": {
        "id": "an_uceDQCVtF"
      },
      "outputs": [],
      "source": []
    }
  ],
  "metadata": {
    "accelerator": "GPU",
    "colab": {
      "gpuType": "T4",
      "provenance": []
    },
    "kernelspec": {
      "display_name": "Python 3",
      "name": "python3"
    },
    "language_info": {
      "name": "python"
    },
    "widgets": {
      "application/vnd.jupyter.widget-state+json": {
        "022d2616483f403ba4425778bed45ed0": {
          "model_module": "@jupyter-widgets/base",
          "model_module_version": "1.2.0",
          "model_name": "LayoutModel",
          "state": {
            "_model_module": "@jupyter-widgets/base",
            "_model_module_version": "1.2.0",
            "_model_name": "LayoutModel",
            "_view_count": null,
            "_view_module": "@jupyter-widgets/base",
            "_view_module_version": "1.2.0",
            "_view_name": "LayoutView",
            "align_content": null,
            "align_items": null,
            "align_self": null,
            "border": null,
            "bottom": null,
            "display": null,
            "flex": null,
            "flex_flow": null,
            "grid_area": null,
            "grid_auto_columns": null,
            "grid_auto_flow": null,
            "grid_auto_rows": null,
            "grid_column": null,
            "grid_gap": null,
            "grid_row": null,
            "grid_template_areas": null,
            "grid_template_columns": null,
            "grid_template_rows": null,
            "height": null,
            "justify_content": null,
            "justify_items": null,
            "left": null,
            "margin": null,
            "max_height": null,
            "max_width": null,
            "min_height": null,
            "min_width": null,
            "object_fit": null,
            "object_position": null,
            "order": null,
            "overflow": null,
            "overflow_x": null,
            "overflow_y": null,
            "padding": null,
            "right": null,
            "top": null,
            "visibility": null,
            "width": null
          }
        },
        "06230c3e7cc14a3889e1d0f51c5c6a6e": {
          "model_module": "@jupyter-widgets/controls",
          "model_module_version": "1.5.0",
          "model_name": "DescriptionStyleModel",
          "state": {
            "_model_module": "@jupyter-widgets/controls",
            "_model_module_version": "1.5.0",
            "_model_name": "DescriptionStyleModel",
            "_view_count": null,
            "_view_module": "@jupyter-widgets/base",
            "_view_module_version": "1.2.0",
            "_view_name": "StyleView",
            "description_width": ""
          }
        },
        "084f44539739408396a9d37d787892c5": {
          "model_module": "@jupyter-widgets/base",
          "model_module_version": "1.2.0",
          "model_name": "LayoutModel",
          "state": {
            "_model_module": "@jupyter-widgets/base",
            "_model_module_version": "1.2.0",
            "_model_name": "LayoutModel",
            "_view_count": null,
            "_view_module": "@jupyter-widgets/base",
            "_view_module_version": "1.2.0",
            "_view_name": "LayoutView",
            "align_content": null,
            "align_items": null,
            "align_self": null,
            "border": null,
            "bottom": null,
            "display": null,
            "flex": null,
            "flex_flow": null,
            "grid_area": null,
            "grid_auto_columns": null,
            "grid_auto_flow": null,
            "grid_auto_rows": null,
            "grid_column": null,
            "grid_gap": null,
            "grid_row": null,
            "grid_template_areas": null,
            "grid_template_columns": null,
            "grid_template_rows": null,
            "height": null,
            "justify_content": null,
            "justify_items": null,
            "left": null,
            "margin": null,
            "max_height": null,
            "max_width": null,
            "min_height": null,
            "min_width": null,
            "object_fit": null,
            "object_position": null,
            "order": null,
            "overflow": null,
            "overflow_x": null,
            "overflow_y": null,
            "padding": null,
            "right": null,
            "top": null,
            "visibility": null,
            "width": null
          }
        },
        "0af2c33792d34af7bb350a1df783c8c4": {
          "model_module": "@jupyter-widgets/controls",
          "model_module_version": "1.5.0",
          "model_name": "DescriptionStyleModel",
          "state": {
            "_model_module": "@jupyter-widgets/controls",
            "_model_module_version": "1.5.0",
            "_model_name": "DescriptionStyleModel",
            "_view_count": null,
            "_view_module": "@jupyter-widgets/base",
            "_view_module_version": "1.2.0",
            "_view_name": "StyleView",
            "description_width": ""
          }
        },
        "0fe25e953c6a49358e7f3516316c01fc": {
          "model_module": "@jupyter-widgets/base",
          "model_module_version": "1.2.0",
          "model_name": "LayoutModel",
          "state": {
            "_model_module": "@jupyter-widgets/base",
            "_model_module_version": "1.2.0",
            "_model_name": "LayoutModel",
            "_view_count": null,
            "_view_module": "@jupyter-widgets/base",
            "_view_module_version": "1.2.0",
            "_view_name": "LayoutView",
            "align_content": null,
            "align_items": null,
            "align_self": null,
            "border": null,
            "bottom": null,
            "display": null,
            "flex": null,
            "flex_flow": null,
            "grid_area": null,
            "grid_auto_columns": null,
            "grid_auto_flow": null,
            "grid_auto_rows": null,
            "grid_column": null,
            "grid_gap": null,
            "grid_row": null,
            "grid_template_areas": null,
            "grid_template_columns": null,
            "grid_template_rows": null,
            "height": null,
            "justify_content": null,
            "justify_items": null,
            "left": null,
            "margin": null,
            "max_height": null,
            "max_width": null,
            "min_height": null,
            "min_width": null,
            "object_fit": null,
            "object_position": null,
            "order": null,
            "overflow": null,
            "overflow_x": null,
            "overflow_y": null,
            "padding": null,
            "right": null,
            "top": null,
            "visibility": null,
            "width": null
          }
        },
        "14ac6e89dfaa4f9c88a73b18e936379c": {
          "model_module": "@jupyter-widgets/controls",
          "model_module_version": "1.5.0",
          "model_name": "DescriptionStyleModel",
          "state": {
            "_model_module": "@jupyter-widgets/controls",
            "_model_module_version": "1.5.0",
            "_model_name": "DescriptionStyleModel",
            "_view_count": null,
            "_view_module": "@jupyter-widgets/base",
            "_view_module_version": "1.2.0",
            "_view_name": "StyleView",
            "description_width": ""
          }
        },
        "170a1931bdc14061b0a5a8d88c391080": {
          "model_module": "@jupyter-widgets/controls",
          "model_module_version": "1.5.0",
          "model_name": "HBoxModel",
          "state": {
            "_dom_classes": [],
            "_model_module": "@jupyter-widgets/controls",
            "_model_module_version": "1.5.0",
            "_model_name": "HBoxModel",
            "_view_count": null,
            "_view_module": "@jupyter-widgets/controls",
            "_view_module_version": "1.5.0",
            "_view_name": "HBoxView",
            "box_style": "",
            "children": [
              "IPY_MODEL_af1525a7b7f347f581473ac22176c62a",
              "IPY_MODEL_91da686bcdc64385855ba52e13ef43b1",
              "IPY_MODEL_811d6e3128264795a5f6a2d8d94ee347"
            ],
            "layout": "IPY_MODEL_022d2616483f403ba4425778bed45ed0"
          }
        },
        "2916165ca616431fbece03a4c1fca311": {
          "model_module": "@jupyter-widgets/controls",
          "model_module_version": "1.5.0",
          "model_name": "DescriptionStyleModel",
          "state": {
            "_model_module": "@jupyter-widgets/controls",
            "_model_module_version": "1.5.0",
            "_model_name": "DescriptionStyleModel",
            "_view_count": null,
            "_view_module": "@jupyter-widgets/base",
            "_view_module_version": "1.2.0",
            "_view_name": "StyleView",
            "description_width": ""
          }
        },
        "2c31ba09c6754b819c700dcbd5eed7f1": {
          "model_module": "@jupyter-widgets/base",
          "model_module_version": "1.2.0",
          "model_name": "LayoutModel",
          "state": {
            "_model_module": "@jupyter-widgets/base",
            "_model_module_version": "1.2.0",
            "_model_name": "LayoutModel",
            "_view_count": null,
            "_view_module": "@jupyter-widgets/base",
            "_view_module_version": "1.2.0",
            "_view_name": "LayoutView",
            "align_content": null,
            "align_items": null,
            "align_self": null,
            "border": null,
            "bottom": null,
            "display": null,
            "flex": null,
            "flex_flow": null,
            "grid_area": null,
            "grid_auto_columns": null,
            "grid_auto_flow": null,
            "grid_auto_rows": null,
            "grid_column": null,
            "grid_gap": null,
            "grid_row": null,
            "grid_template_areas": null,
            "grid_template_columns": null,
            "grid_template_rows": null,
            "height": null,
            "justify_content": null,
            "justify_items": null,
            "left": null,
            "margin": null,
            "max_height": null,
            "max_width": null,
            "min_height": null,
            "min_width": null,
            "object_fit": null,
            "object_position": null,
            "order": null,
            "overflow": null,
            "overflow_x": null,
            "overflow_y": null,
            "padding": null,
            "right": null,
            "top": null,
            "visibility": null,
            "width": null
          }
        },
        "2cbedd18fc7d4d8b8f1a56bf3bbf4221": {
          "model_module": "@jupyter-widgets/controls",
          "model_module_version": "1.5.0",
          "model_name": "HTMLModel",
          "state": {
            "_dom_classes": [],
            "_model_module": "@jupyter-widgets/controls",
            "_model_module_version": "1.5.0",
            "_model_name": "HTMLModel",
            "_view_count": null,
            "_view_module": "@jupyter-widgets/controls",
            "_view_module_version": "1.5.0",
            "_view_name": "HTMLView",
            "description": "",
            "description_tooltip": null,
            "layout": "IPY_MODEL_084f44539739408396a9d37d787892c5",
            "placeholder": "​",
            "style": "IPY_MODEL_0af2c33792d34af7bb350a1df783c8c4",
            "value": "config.json: 100%"
          }
        },
        "2cc4baa62f9b47f19ba2055d1c187239": {
          "model_module": "@jupyter-widgets/base",
          "model_module_version": "1.2.0",
          "model_name": "LayoutModel",
          "state": {
            "_model_module": "@jupyter-widgets/base",
            "_model_module_version": "1.2.0",
            "_model_name": "LayoutModel",
            "_view_count": null,
            "_view_module": "@jupyter-widgets/base",
            "_view_module_version": "1.2.0",
            "_view_name": "LayoutView",
            "align_content": null,
            "align_items": null,
            "align_self": null,
            "border": null,
            "bottom": null,
            "display": null,
            "flex": null,
            "flex_flow": null,
            "grid_area": null,
            "grid_auto_columns": null,
            "grid_auto_flow": null,
            "grid_auto_rows": null,
            "grid_column": null,
            "grid_gap": null,
            "grid_row": null,
            "grid_template_areas": null,
            "grid_template_columns": null,
            "grid_template_rows": null,
            "height": null,
            "justify_content": null,
            "justify_items": null,
            "left": null,
            "margin": null,
            "max_height": null,
            "max_width": null,
            "min_height": null,
            "min_width": null,
            "object_fit": null,
            "object_position": null,
            "order": null,
            "overflow": null,
            "overflow_x": null,
            "overflow_y": null,
            "padding": null,
            "right": null,
            "top": null,
            "visibility": null,
            "width": null
          }
        },
        "382c01f0ebf14db9b87231a9f2b7f87b": {
          "model_module": "@jupyter-widgets/controls",
          "model_module_version": "1.5.0",
          "model_name": "HBoxModel",
          "state": {
            "_dom_classes": [],
            "_model_module": "@jupyter-widgets/controls",
            "_model_module_version": "1.5.0",
            "_model_name": "HBoxModel",
            "_view_count": null,
            "_view_module": "@jupyter-widgets/controls",
            "_view_module_version": "1.5.0",
            "_view_name": "HBoxView",
            "box_style": "",
            "children": [
              "IPY_MODEL_4ec4d529d9f743c5ac7f54920e595d97",
              "IPY_MODEL_856ca0b5125a42b1bfeb36b9d011706c",
              "IPY_MODEL_f58e4353a238486e8fed8ac7bd558c26"
            ],
            "layout": "IPY_MODEL_6a5ce70e6ac64e72ac1704cd3453d590"
          }
        },
        "3bf8a12a0dff46988f91cc8880de10aa": {
          "model_module": "@jupyter-widgets/base",
          "model_module_version": "1.2.0",
          "model_name": "LayoutModel",
          "state": {
            "_model_module": "@jupyter-widgets/base",
            "_model_module_version": "1.2.0",
            "_model_name": "LayoutModel",
            "_view_count": null,
            "_view_module": "@jupyter-widgets/base",
            "_view_module_version": "1.2.0",
            "_view_name": "LayoutView",
            "align_content": null,
            "align_items": null,
            "align_self": null,
            "border": null,
            "bottom": null,
            "display": null,
            "flex": null,
            "flex_flow": null,
            "grid_area": null,
            "grid_auto_columns": null,
            "grid_auto_flow": null,
            "grid_auto_rows": null,
            "grid_column": null,
            "grid_gap": null,
            "grid_row": null,
            "grid_template_areas": null,
            "grid_template_columns": null,
            "grid_template_rows": null,
            "height": null,
            "justify_content": null,
            "justify_items": null,
            "left": null,
            "margin": null,
            "max_height": null,
            "max_width": null,
            "min_height": null,
            "min_width": null,
            "object_fit": null,
            "object_position": null,
            "order": null,
            "overflow": null,
            "overflow_x": null,
            "overflow_y": null,
            "padding": null,
            "right": null,
            "top": null,
            "visibility": null,
            "width": null
          }
        },
        "4ec4d529d9f743c5ac7f54920e595d97": {
          "model_module": "@jupyter-widgets/controls",
          "model_module_version": "1.5.0",
          "model_name": "HTMLModel",
          "state": {
            "_dom_classes": [],
            "_model_module": "@jupyter-widgets/controls",
            "_model_module_version": "1.5.0",
            "_model_name": "HTMLModel",
            "_view_count": null,
            "_view_module": "@jupyter-widgets/controls",
            "_view_module_version": "1.5.0",
            "_view_name": "HTMLView",
            "description": "",
            "description_tooltip": null,
            "layout": "IPY_MODEL_de838d5a05a94cc8a2174bc4df2d6891",
            "placeholder": "​",
            "style": "IPY_MODEL_06230c3e7cc14a3889e1d0f51c5c6a6e",
            "value": "model.safetensors: 100%"
          }
        },
        "6335cc0d92eb42ea852bae3681ea2d91": {
          "model_module": "@jupyter-widgets/controls",
          "model_module_version": "1.5.0",
          "model_name": "DescriptionStyleModel",
          "state": {
            "_model_module": "@jupyter-widgets/controls",
            "_model_module_version": "1.5.0",
            "_model_name": "DescriptionStyleModel",
            "_view_count": null,
            "_view_module": "@jupyter-widgets/base",
            "_view_module_version": "1.2.0",
            "_view_name": "StyleView",
            "description_width": ""
          }
        },
        "6a5ce70e6ac64e72ac1704cd3453d590": {
          "model_module": "@jupyter-widgets/base",
          "model_module_version": "1.2.0",
          "model_name": "LayoutModel",
          "state": {
            "_model_module": "@jupyter-widgets/base",
            "_model_module_version": "1.2.0",
            "_model_name": "LayoutModel",
            "_view_count": null,
            "_view_module": "@jupyter-widgets/base",
            "_view_module_version": "1.2.0",
            "_view_name": "LayoutView",
            "align_content": null,
            "align_items": null,
            "align_self": null,
            "border": null,
            "bottom": null,
            "display": null,
            "flex": null,
            "flex_flow": null,
            "grid_area": null,
            "grid_auto_columns": null,
            "grid_auto_flow": null,
            "grid_auto_rows": null,
            "grid_column": null,
            "grid_gap": null,
            "grid_row": null,
            "grid_template_areas": null,
            "grid_template_columns": null,
            "grid_template_rows": null,
            "height": null,
            "justify_content": null,
            "justify_items": null,
            "left": null,
            "margin": null,
            "max_height": null,
            "max_width": null,
            "min_height": null,
            "min_width": null,
            "object_fit": null,
            "object_position": null,
            "order": null,
            "overflow": null,
            "overflow_x": null,
            "overflow_y": null,
            "padding": null,
            "right": null,
            "top": null,
            "visibility": null,
            "width": null
          }
        },
        "6cc110d2e25d4409a567917d4f9ea3eb": {
          "model_module": "@jupyter-widgets/controls",
          "model_module_version": "1.5.0",
          "model_name": "ProgressStyleModel",
          "state": {
            "_model_module": "@jupyter-widgets/controls",
            "_model_module_version": "1.5.0",
            "_model_name": "ProgressStyleModel",
            "_view_count": null,
            "_view_module": "@jupyter-widgets/base",
            "_view_module_version": "1.2.0",
            "_view_name": "StyleView",
            "bar_color": null,
            "description_width": ""
          }
        },
        "75aec5c951da44afacc3249738538589": {
          "model_module": "@jupyter-widgets/controls",
          "model_module_version": "1.5.0",
          "model_name": "HTMLModel",
          "state": {
            "_dom_classes": [],
            "_model_module": "@jupyter-widgets/controls",
            "_model_module_version": "1.5.0",
            "_model_name": "HTMLModel",
            "_view_count": null,
            "_view_module": "@jupyter-widgets/controls",
            "_view_module_version": "1.5.0",
            "_view_name": "HTMLView",
            "description": "",
            "description_tooltip": null,
            "layout": "IPY_MODEL_9ce08bcc34f4430f8741bf9162758232",
            "placeholder": "​",
            "style": "IPY_MODEL_badc7a0ef4d14827ab09fe28474bb6e1",
            "value": " 629/629 [00:00&lt;00:00, 44.8kB/s]"
          }
        },
        "7f19cdb1d42344b68467ac91dc75e22c": {
          "model_module": "@jupyter-widgets/controls",
          "model_module_version": "1.5.0",
          "model_name": "HBoxModel",
          "state": {
            "_dom_classes": [],
            "_model_module": "@jupyter-widgets/controls",
            "_model_module_version": "1.5.0",
            "_model_name": "HBoxModel",
            "_view_count": null,
            "_view_module": "@jupyter-widgets/controls",
            "_view_module_version": "1.5.0",
            "_view_name": "HBoxView",
            "box_style": "",
            "children": [
              "IPY_MODEL_2cbedd18fc7d4d8b8f1a56bf3bbf4221",
              "IPY_MODEL_c9f0d71187564240955d5e52903a7327",
              "IPY_MODEL_75aec5c951da44afacc3249738538589"
            ],
            "layout": "IPY_MODEL_f0291a671c5348e189c33d22fd18d319"
          }
        },
        "811d6e3128264795a5f6a2d8d94ee347": {
          "model_module": "@jupyter-widgets/controls",
          "model_module_version": "1.5.0",
          "model_name": "HTMLModel",
          "state": {
            "_dom_classes": [],
            "_model_module": "@jupyter-widgets/controls",
            "_model_module_version": "1.5.0",
            "_model_name": "HTMLModel",
            "_view_count": null,
            "_view_module": "@jupyter-widgets/controls",
            "_view_module_version": "1.5.0",
            "_view_name": "HTMLView",
            "description": "",
            "description_tooltip": null,
            "layout": "IPY_MODEL_2c31ba09c6754b819c700dcbd5eed7f1",
            "placeholder": "​",
            "style": "IPY_MODEL_2916165ca616431fbece03a4c1fca311",
            "value": " 232k/232k [00:00&lt;00:00, 11.2MB/s]"
          }
        },
        "8319449f262f487ab6931526f855f4dc": {
          "model_module": "@jupyter-widgets/controls",
          "model_module_version": "1.5.0",
          "model_name": "ProgressStyleModel",
          "state": {
            "_model_module": "@jupyter-widgets/controls",
            "_model_module_version": "1.5.0",
            "_model_name": "ProgressStyleModel",
            "_view_count": null,
            "_view_module": "@jupyter-widgets/base",
            "_view_module_version": "1.2.0",
            "_view_name": "StyleView",
            "bar_color": null,
            "description_width": ""
          }
        },
        "856ca0b5125a42b1bfeb36b9d011706c": {
          "model_module": "@jupyter-widgets/controls",
          "model_module_version": "1.5.0",
          "model_name": "FloatProgressModel",
          "state": {
            "_dom_classes": [],
            "_model_module": "@jupyter-widgets/controls",
            "_model_module_version": "1.5.0",
            "_model_name": "FloatProgressModel",
            "_view_count": null,
            "_view_module": "@jupyter-widgets/controls",
            "_view_module_version": "1.5.0",
            "_view_name": "ProgressView",
            "bar_style": "success",
            "description": "",
            "description_tooltip": null,
            "layout": "IPY_MODEL_fee40895b2a94b24a6d50df05c0a6e38",
            "max": 267832558,
            "min": 0,
            "orientation": "horizontal",
            "style": "IPY_MODEL_6cc110d2e25d4409a567917d4f9ea3eb",
            "value": 267832558
          }
        },
        "8edbd6d389a44d919db10b84c51e3a14": {
          "model_module": "@jupyter-widgets/controls",
          "model_module_version": "1.5.0",
          "model_name": "DescriptionStyleModel",
          "state": {
            "_model_module": "@jupyter-widgets/controls",
            "_model_module_version": "1.5.0",
            "_model_name": "DescriptionStyleModel",
            "_view_count": null,
            "_view_module": "@jupyter-widgets/base",
            "_view_module_version": "1.2.0",
            "_view_name": "StyleView",
            "description_width": ""
          }
        },
        "8f67656bc08e45d3a38a91007b99d444": {
          "model_module": "@jupyter-widgets/base",
          "model_module_version": "1.2.0",
          "model_name": "LayoutModel",
          "state": {
            "_model_module": "@jupyter-widgets/base",
            "_model_module_version": "1.2.0",
            "_model_name": "LayoutModel",
            "_view_count": null,
            "_view_module": "@jupyter-widgets/base",
            "_view_module_version": "1.2.0",
            "_view_name": "LayoutView",
            "align_content": null,
            "align_items": null,
            "align_self": null,
            "border": null,
            "bottom": null,
            "display": null,
            "flex": null,
            "flex_flow": null,
            "grid_area": null,
            "grid_auto_columns": null,
            "grid_auto_flow": null,
            "grid_auto_rows": null,
            "grid_column": null,
            "grid_gap": null,
            "grid_row": null,
            "grid_template_areas": null,
            "grid_template_columns": null,
            "grid_template_rows": null,
            "height": null,
            "justify_content": null,
            "justify_items": null,
            "left": null,
            "margin": null,
            "max_height": null,
            "max_width": null,
            "min_height": null,
            "min_width": null,
            "object_fit": null,
            "object_position": null,
            "order": null,
            "overflow": null,
            "overflow_x": null,
            "overflow_y": null,
            "padding": null,
            "right": null,
            "top": null,
            "visibility": null,
            "width": null
          }
        },
        "91da686bcdc64385855ba52e13ef43b1": {
          "model_module": "@jupyter-widgets/controls",
          "model_module_version": "1.5.0",
          "model_name": "FloatProgressModel",
          "state": {
            "_dom_classes": [],
            "_model_module": "@jupyter-widgets/controls",
            "_model_module_version": "1.5.0",
            "_model_name": "FloatProgressModel",
            "_view_count": null,
            "_view_module": "@jupyter-widgets/controls",
            "_view_module_version": "1.5.0",
            "_view_name": "ProgressView",
            "bar_style": "success",
            "description": "",
            "description_tooltip": null,
            "layout": "IPY_MODEL_3bf8a12a0dff46988f91cc8880de10aa",
            "max": 231508,
            "min": 0,
            "orientation": "horizontal",
            "style": "IPY_MODEL_af51b9c150914af5b5168e189fcf8d95",
            "value": 231508
          }
        },
        "9598c8de0c254594a8989edd6dc220da": {
          "model_module": "@jupyter-widgets/base",
          "model_module_version": "1.2.0",
          "model_name": "LayoutModel",
          "state": {
            "_model_module": "@jupyter-widgets/base",
            "_model_module_version": "1.2.0",
            "_model_name": "LayoutModel",
            "_view_count": null,
            "_view_module": "@jupyter-widgets/base",
            "_view_module_version": "1.2.0",
            "_view_name": "LayoutView",
            "align_content": null,
            "align_items": null,
            "align_self": null,
            "border": null,
            "bottom": null,
            "display": null,
            "flex": null,
            "flex_flow": null,
            "grid_area": null,
            "grid_auto_columns": null,
            "grid_auto_flow": null,
            "grid_auto_rows": null,
            "grid_column": null,
            "grid_gap": null,
            "grid_row": null,
            "grid_template_areas": null,
            "grid_template_columns": null,
            "grid_template_rows": null,
            "height": null,
            "justify_content": null,
            "justify_items": null,
            "left": null,
            "margin": null,
            "max_height": null,
            "max_width": null,
            "min_height": null,
            "min_width": null,
            "object_fit": null,
            "object_position": null,
            "order": null,
            "overflow": null,
            "overflow_x": null,
            "overflow_y": null,
            "padding": null,
            "right": null,
            "top": null,
            "visibility": null,
            "width": null
          }
        },
        "9ce08bcc34f4430f8741bf9162758232": {
          "model_module": "@jupyter-widgets/base",
          "model_module_version": "1.2.0",
          "model_name": "LayoutModel",
          "state": {
            "_model_module": "@jupyter-widgets/base",
            "_model_module_version": "1.2.0",
            "_model_name": "LayoutModel",
            "_view_count": null,
            "_view_module": "@jupyter-widgets/base",
            "_view_module_version": "1.2.0",
            "_view_name": "LayoutView",
            "align_content": null,
            "align_items": null,
            "align_self": null,
            "border": null,
            "bottom": null,
            "display": null,
            "flex": null,
            "flex_flow": null,
            "grid_area": null,
            "grid_auto_columns": null,
            "grid_auto_flow": null,
            "grid_auto_rows": null,
            "grid_column": null,
            "grid_gap": null,
            "grid_row": null,
            "grid_template_areas": null,
            "grid_template_columns": null,
            "grid_template_rows": null,
            "height": null,
            "justify_content": null,
            "justify_items": null,
            "left": null,
            "margin": null,
            "max_height": null,
            "max_width": null,
            "min_height": null,
            "min_width": null,
            "object_fit": null,
            "object_position": null,
            "order": null,
            "overflow": null,
            "overflow_x": null,
            "overflow_y": null,
            "padding": null,
            "right": null,
            "top": null,
            "visibility": null,
            "width": null
          }
        },
        "9ed9a993265844edb050bdaa5ed53728": {
          "model_module": "@jupyter-widgets/controls",
          "model_module_version": "1.5.0",
          "model_name": "FloatProgressModel",
          "state": {
            "_dom_classes": [],
            "_model_module": "@jupyter-widgets/controls",
            "_model_module_version": "1.5.0",
            "_model_name": "FloatProgressModel",
            "_view_count": null,
            "_view_module": "@jupyter-widgets/controls",
            "_view_module_version": "1.5.0",
            "_view_name": "ProgressView",
            "bar_style": "success",
            "description": "",
            "description_tooltip": null,
            "layout": "IPY_MODEL_9598c8de0c254594a8989edd6dc220da",
            "max": 48,
            "min": 0,
            "orientation": "horizontal",
            "style": "IPY_MODEL_8319449f262f487ab6931526f855f4dc",
            "value": 48
          }
        },
        "a16ae641f73c45068aeb2384d755b746": {
          "model_module": "@jupyter-widgets/base",
          "model_module_version": "1.2.0",
          "model_name": "LayoutModel",
          "state": {
            "_model_module": "@jupyter-widgets/base",
            "_model_module_version": "1.2.0",
            "_model_name": "LayoutModel",
            "_view_count": null,
            "_view_module": "@jupyter-widgets/base",
            "_view_module_version": "1.2.0",
            "_view_name": "LayoutView",
            "align_content": null,
            "align_items": null,
            "align_self": null,
            "border": null,
            "bottom": null,
            "display": null,
            "flex": null,
            "flex_flow": null,
            "grid_area": null,
            "grid_auto_columns": null,
            "grid_auto_flow": null,
            "grid_auto_rows": null,
            "grid_column": null,
            "grid_gap": null,
            "grid_row": null,
            "grid_template_areas": null,
            "grid_template_columns": null,
            "grid_template_rows": null,
            "height": null,
            "justify_content": null,
            "justify_items": null,
            "left": null,
            "margin": null,
            "max_height": null,
            "max_width": null,
            "min_height": null,
            "min_width": null,
            "object_fit": null,
            "object_position": null,
            "order": null,
            "overflow": null,
            "overflow_x": null,
            "overflow_y": null,
            "padding": null,
            "right": null,
            "top": null,
            "visibility": null,
            "width": null
          }
        },
        "ad5368dad49a416c8559aad516f1b0a5": {
          "model_module": "@jupyter-widgets/controls",
          "model_module_version": "1.5.0",
          "model_name": "HBoxModel",
          "state": {
            "_dom_classes": [],
            "_model_module": "@jupyter-widgets/controls",
            "_model_module_version": "1.5.0",
            "_model_name": "HBoxModel",
            "_view_count": null,
            "_view_module": "@jupyter-widgets/controls",
            "_view_module_version": "1.5.0",
            "_view_name": "HBoxView",
            "box_style": "",
            "children": [
              "IPY_MODEL_fb0f48b8a6264d7c877dbf7caa4a4f53",
              "IPY_MODEL_9ed9a993265844edb050bdaa5ed53728",
              "IPY_MODEL_b9f5e6d6abc44de2904bfa4531a692d8"
            ],
            "layout": "IPY_MODEL_c85f3927e35e40c085a556de292861fe"
          }
        },
        "af1525a7b7f347f581473ac22176c62a": {
          "model_module": "@jupyter-widgets/controls",
          "model_module_version": "1.5.0",
          "model_name": "HTMLModel",
          "state": {
            "_dom_classes": [],
            "_model_module": "@jupyter-widgets/controls",
            "_model_module_version": "1.5.0",
            "_model_name": "HTMLModel",
            "_view_count": null,
            "_view_module": "@jupyter-widgets/controls",
            "_view_module_version": "1.5.0",
            "_view_name": "HTMLView",
            "description": "",
            "description_tooltip": null,
            "layout": "IPY_MODEL_2cc4baa62f9b47f19ba2055d1c187239",
            "placeholder": "​",
            "style": "IPY_MODEL_6335cc0d92eb42ea852bae3681ea2d91",
            "value": "vocab.txt: 100%"
          }
        },
        "af51b9c150914af5b5168e189fcf8d95": {
          "model_module": "@jupyter-widgets/controls",
          "model_module_version": "1.5.0",
          "model_name": "ProgressStyleModel",
          "state": {
            "_model_module": "@jupyter-widgets/controls",
            "_model_module_version": "1.5.0",
            "_model_name": "ProgressStyleModel",
            "_view_count": null,
            "_view_module": "@jupyter-widgets/base",
            "_view_module_version": "1.2.0",
            "_view_name": "StyleView",
            "bar_color": null,
            "description_width": ""
          }
        },
        "b5f7ade0125b4a05bbd58c008c956907": {
          "model_module": "@jupyter-widgets/controls",
          "model_module_version": "1.5.0",
          "model_name": "ProgressStyleModel",
          "state": {
            "_model_module": "@jupyter-widgets/controls",
            "_model_module_version": "1.5.0",
            "_model_name": "ProgressStyleModel",
            "_view_count": null,
            "_view_module": "@jupyter-widgets/base",
            "_view_module_version": "1.2.0",
            "_view_name": "StyleView",
            "bar_color": null,
            "description_width": ""
          }
        },
        "b78701e2d3864ee58a2a4052e511ac41": {
          "model_module": "@jupyter-widgets/controls",
          "model_module_version": "1.5.0",
          "model_name": "DescriptionStyleModel",
          "state": {
            "_model_module": "@jupyter-widgets/controls",
            "_model_module_version": "1.5.0",
            "_model_name": "DescriptionStyleModel",
            "_view_count": null,
            "_view_module": "@jupyter-widgets/base",
            "_view_module_version": "1.2.0",
            "_view_name": "StyleView",
            "description_width": ""
          }
        },
        "b9f5e6d6abc44de2904bfa4531a692d8": {
          "model_module": "@jupyter-widgets/controls",
          "model_module_version": "1.5.0",
          "model_name": "HTMLModel",
          "state": {
            "_dom_classes": [],
            "_model_module": "@jupyter-widgets/controls",
            "_model_module_version": "1.5.0",
            "_model_name": "HTMLModel",
            "_view_count": null,
            "_view_module": "@jupyter-widgets/controls",
            "_view_module_version": "1.5.0",
            "_view_name": "HTMLView",
            "description": "",
            "description_tooltip": null,
            "layout": "IPY_MODEL_a16ae641f73c45068aeb2384d755b746",
            "placeholder": "​",
            "style": "IPY_MODEL_8edbd6d389a44d919db10b84c51e3a14",
            "value": " 48.0/48.0 [00:00&lt;00:00, 3.00kB/s]"
          }
        },
        "badc7a0ef4d14827ab09fe28474bb6e1": {
          "model_module": "@jupyter-widgets/controls",
          "model_module_version": "1.5.0",
          "model_name": "DescriptionStyleModel",
          "state": {
            "_model_module": "@jupyter-widgets/controls",
            "_model_module_version": "1.5.0",
            "_model_name": "DescriptionStyleModel",
            "_view_count": null,
            "_view_module": "@jupyter-widgets/base",
            "_view_module_version": "1.2.0",
            "_view_name": "StyleView",
            "description_width": ""
          }
        },
        "c85f3927e35e40c085a556de292861fe": {
          "model_module": "@jupyter-widgets/base",
          "model_module_version": "1.2.0",
          "model_name": "LayoutModel",
          "state": {
            "_model_module": "@jupyter-widgets/base",
            "_model_module_version": "1.2.0",
            "_model_name": "LayoutModel",
            "_view_count": null,
            "_view_module": "@jupyter-widgets/base",
            "_view_module_version": "1.2.0",
            "_view_name": "LayoutView",
            "align_content": null,
            "align_items": null,
            "align_self": null,
            "border": null,
            "bottom": null,
            "display": null,
            "flex": null,
            "flex_flow": null,
            "grid_area": null,
            "grid_auto_columns": null,
            "grid_auto_flow": null,
            "grid_auto_rows": null,
            "grid_column": null,
            "grid_gap": null,
            "grid_row": null,
            "grid_template_areas": null,
            "grid_template_columns": null,
            "grid_template_rows": null,
            "height": null,
            "justify_content": null,
            "justify_items": null,
            "left": null,
            "margin": null,
            "max_height": null,
            "max_width": null,
            "min_height": null,
            "min_width": null,
            "object_fit": null,
            "object_position": null,
            "order": null,
            "overflow": null,
            "overflow_x": null,
            "overflow_y": null,
            "padding": null,
            "right": null,
            "top": null,
            "visibility": null,
            "width": null
          }
        },
        "c9f0d71187564240955d5e52903a7327": {
          "model_module": "@jupyter-widgets/controls",
          "model_module_version": "1.5.0",
          "model_name": "FloatProgressModel",
          "state": {
            "_dom_classes": [],
            "_model_module": "@jupyter-widgets/controls",
            "_model_module_version": "1.5.0",
            "_model_name": "FloatProgressModel",
            "_view_count": null,
            "_view_module": "@jupyter-widgets/controls",
            "_view_module_version": "1.5.0",
            "_view_name": "ProgressView",
            "bar_style": "success",
            "description": "",
            "description_tooltip": null,
            "layout": "IPY_MODEL_0fe25e953c6a49358e7f3516316c01fc",
            "max": 629,
            "min": 0,
            "orientation": "horizontal",
            "style": "IPY_MODEL_b5f7ade0125b4a05bbd58c008c956907",
            "value": 629
          }
        },
        "de838d5a05a94cc8a2174bc4df2d6891": {
          "model_module": "@jupyter-widgets/base",
          "model_module_version": "1.2.0",
          "model_name": "LayoutModel",
          "state": {
            "_model_module": "@jupyter-widgets/base",
            "_model_module_version": "1.2.0",
            "_model_name": "LayoutModel",
            "_view_count": null,
            "_view_module": "@jupyter-widgets/base",
            "_view_module_version": "1.2.0",
            "_view_name": "LayoutView",
            "align_content": null,
            "align_items": null,
            "align_self": null,
            "border": null,
            "bottom": null,
            "display": null,
            "flex": null,
            "flex_flow": null,
            "grid_area": null,
            "grid_auto_columns": null,
            "grid_auto_flow": null,
            "grid_auto_rows": null,
            "grid_column": null,
            "grid_gap": null,
            "grid_row": null,
            "grid_template_areas": null,
            "grid_template_columns": null,
            "grid_template_rows": null,
            "height": null,
            "justify_content": null,
            "justify_items": null,
            "left": null,
            "margin": null,
            "max_height": null,
            "max_width": null,
            "min_height": null,
            "min_width": null,
            "object_fit": null,
            "object_position": null,
            "order": null,
            "overflow": null,
            "overflow_x": null,
            "overflow_y": null,
            "padding": null,
            "right": null,
            "top": null,
            "visibility": null,
            "width": null
          }
        },
        "e4e733c825bf42018cb9f064a8d52403": {
          "model_module": "@jupyter-widgets/base",
          "model_module_version": "1.2.0",
          "model_name": "LayoutModel",
          "state": {
            "_model_module": "@jupyter-widgets/base",
            "_model_module_version": "1.2.0",
            "_model_name": "LayoutModel",
            "_view_count": null,
            "_view_module": "@jupyter-widgets/base",
            "_view_module_version": "1.2.0",
            "_view_name": "LayoutView",
            "align_content": null,
            "align_items": null,
            "align_self": null,
            "border": null,
            "bottom": null,
            "display": null,
            "flex": null,
            "flex_flow": null,
            "grid_area": null,
            "grid_auto_columns": null,
            "grid_auto_flow": null,
            "grid_auto_rows": null,
            "grid_column": null,
            "grid_gap": null,
            "grid_row": null,
            "grid_template_areas": null,
            "grid_template_columns": null,
            "grid_template_rows": null,
            "height": null,
            "justify_content": null,
            "justify_items": null,
            "left": null,
            "margin": null,
            "max_height": null,
            "max_width": null,
            "min_height": null,
            "min_width": null,
            "object_fit": null,
            "object_position": null,
            "order": null,
            "overflow": null,
            "overflow_x": null,
            "overflow_y": null,
            "padding": null,
            "right": null,
            "top": null,
            "visibility": null,
            "width": null
          }
        },
        "f0291a671c5348e189c33d22fd18d319": {
          "model_module": "@jupyter-widgets/base",
          "model_module_version": "1.2.0",
          "model_name": "LayoutModel",
          "state": {
            "_model_module": "@jupyter-widgets/base",
            "_model_module_version": "1.2.0",
            "_model_name": "LayoutModel",
            "_view_count": null,
            "_view_module": "@jupyter-widgets/base",
            "_view_module_version": "1.2.0",
            "_view_name": "LayoutView",
            "align_content": null,
            "align_items": null,
            "align_self": null,
            "border": null,
            "bottom": null,
            "display": null,
            "flex": null,
            "flex_flow": null,
            "grid_area": null,
            "grid_auto_columns": null,
            "grid_auto_flow": null,
            "grid_auto_rows": null,
            "grid_column": null,
            "grid_gap": null,
            "grid_row": null,
            "grid_template_areas": null,
            "grid_template_columns": null,
            "grid_template_rows": null,
            "height": null,
            "justify_content": null,
            "justify_items": null,
            "left": null,
            "margin": null,
            "max_height": null,
            "max_width": null,
            "min_height": null,
            "min_width": null,
            "object_fit": null,
            "object_position": null,
            "order": null,
            "overflow": null,
            "overflow_x": null,
            "overflow_y": null,
            "padding": null,
            "right": null,
            "top": null,
            "visibility": null,
            "width": null
          }
        },
        "f58e4353a238486e8fed8ac7bd558c26": {
          "model_module": "@jupyter-widgets/controls",
          "model_module_version": "1.5.0",
          "model_name": "HTMLModel",
          "state": {
            "_dom_classes": [],
            "_model_module": "@jupyter-widgets/controls",
            "_model_module_version": "1.5.0",
            "_model_name": "HTMLModel",
            "_view_count": null,
            "_view_module": "@jupyter-widgets/controls",
            "_view_module_version": "1.5.0",
            "_view_name": "HTMLView",
            "description": "",
            "description_tooltip": null,
            "layout": "IPY_MODEL_e4e733c825bf42018cb9f064a8d52403",
            "placeholder": "​",
            "style": "IPY_MODEL_14ac6e89dfaa4f9c88a73b18e936379c",
            "value": " 268M/268M [00:00&lt;00:00, 328MB/s]"
          }
        },
        "fb0f48b8a6264d7c877dbf7caa4a4f53": {
          "model_module": "@jupyter-widgets/controls",
          "model_module_version": "1.5.0",
          "model_name": "HTMLModel",
          "state": {
            "_dom_classes": [],
            "_model_module": "@jupyter-widgets/controls",
            "_model_module_version": "1.5.0",
            "_model_name": "HTMLModel",
            "_view_count": null,
            "_view_module": "@jupyter-widgets/controls",
            "_view_module_version": "1.5.0",
            "_view_name": "HTMLView",
            "description": "",
            "description_tooltip": null,
            "layout": "IPY_MODEL_8f67656bc08e45d3a38a91007b99d444",
            "placeholder": "​",
            "style": "IPY_MODEL_b78701e2d3864ee58a2a4052e511ac41",
            "value": "tokenizer_config.json: 100%"
          }
        },
        "fee40895b2a94b24a6d50df05c0a6e38": {
          "model_module": "@jupyter-widgets/base",
          "model_module_version": "1.2.0",
          "model_name": "LayoutModel",
          "state": {
            "_model_module": "@jupyter-widgets/base",
            "_model_module_version": "1.2.0",
            "_model_name": "LayoutModel",
            "_view_count": null,
            "_view_module": "@jupyter-widgets/base",
            "_view_module_version": "1.2.0",
            "_view_name": "LayoutView",
            "align_content": null,
            "align_items": null,
            "align_self": null,
            "border": null,
            "bottom": null,
            "display": null,
            "flex": null,
            "flex_flow": null,
            "grid_area": null,
            "grid_auto_columns": null,
            "grid_auto_flow": null,
            "grid_auto_rows": null,
            "grid_column": null,
            "grid_gap": null,
            "grid_row": null,
            "grid_template_areas": null,
            "grid_template_columns": null,
            "grid_template_rows": null,
            "height": null,
            "justify_content": null,
            "justify_items": null,
            "left": null,
            "margin": null,
            "max_height": null,
            "max_width": null,
            "min_height": null,
            "min_width": null,
            "object_fit": null,
            "object_position": null,
            "order": null,
            "overflow": null,
            "overflow_x": null,
            "overflow_y": null,
            "padding": null,
            "right": null,
            "top": null,
            "visibility": null,
            "width": null
          }
        }
      }
    }
  },
  "nbformat": 4,
  "nbformat_minor": 0
}
